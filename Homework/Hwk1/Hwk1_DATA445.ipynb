{
 "cells": [
  {
   "cell_type": "code",
   "execution_count": null,
   "id": "f665c631",
   "metadata": {},
   "outputs": [],
   "source": [
    "# Exercise1\n",
    "# Clustering would be a good way to split the data into multiple groups so that more relationships \n",
    "# can be made within the data."
   ]
  },
  {
   "cell_type": "code",
   "execution_count": null,
   "id": "070acc9a",
   "metadata": {},
   "outputs": [],
   "source": [
    "# Exercise2\n",
    "# A spam detection model would fall under supervised learning because for the model to detect spam messages,\n",
    "# the model would first need data to learn relationships in what spam messages look like."
   ]
  },
  {
   "cell_type": "code",
   "execution_count": null,
   "id": "c3c48875",
   "metadata": {},
   "outputs": [],
   "source": [
    "# Exercise3\n",
    "# A test set is a smaller percentage of a dataset where you use it to 'test' the accuracy of the model that was built off\n",
    "# the same dataset. It's a good way to see how the model works with existing data before releasing it to the real world."
   ]
  },
  {
   "cell_type": "code",
   "execution_count": null,
   "id": "1680f976",
   "metadata": {},
   "outputs": [],
   "source": [
    "# Exercise4\n",
    "# (A)"
   ]
  },
  {
   "cell_type": "raw",
   "id": "27bade78",
   "metadata": {},
   "source": [
    "Exercise5"
   ]
  },
  {
   "cell_type": "code",
   "execution_count": 1,
   "id": "39699e2e",
   "metadata": {},
   "outputs": [
    {
     "data": {
      "text/html": [
       "<div>\n",
       "<style scoped>\n",
       "    .dataframe tbody tr th:only-of-type {\n",
       "        vertical-align: middle;\n",
       "    }\n",
       "\n",
       "    .dataframe tbody tr th {\n",
       "        vertical-align: top;\n",
       "    }\n",
       "\n",
       "    .dataframe thead th {\n",
       "        text-align: right;\n",
       "    }\n",
       "</style>\n",
       "<table border=\"1\" class=\"dataframe\">\n",
       "  <thead>\n",
       "    <tr style=\"text-align: right;\">\n",
       "      <th></th>\n",
       "      <th>No</th>\n",
       "      <th>transaction_date</th>\n",
       "      <th>house_age</th>\n",
       "      <th>distance_to_the_nearest_MRT_station</th>\n",
       "      <th>number_of_convenience_stores</th>\n",
       "      <th>latitude</th>\n",
       "      <th>longitude</th>\n",
       "      <th>house_price_of_unit_area</th>\n",
       "    </tr>\n",
       "  </thead>\n",
       "  <tbody>\n",
       "    <tr>\n",
       "      <th>0</th>\n",
       "      <td>1</td>\n",
       "      <td>2012.917</td>\n",
       "      <td>32.0</td>\n",
       "      <td>84.87882</td>\n",
       "      <td>10</td>\n",
       "      <td>24.98298</td>\n",
       "      <td>121.54024</td>\n",
       "      <td>37.9</td>\n",
       "    </tr>\n",
       "    <tr>\n",
       "      <th>1</th>\n",
       "      <td>2</td>\n",
       "      <td>2012.917</td>\n",
       "      <td>19.5</td>\n",
       "      <td>306.59470</td>\n",
       "      <td>9</td>\n",
       "      <td>24.98034</td>\n",
       "      <td>121.53951</td>\n",
       "      <td>42.2</td>\n",
       "    </tr>\n",
       "    <tr>\n",
       "      <th>2</th>\n",
       "      <td>3</td>\n",
       "      <td>2013.583</td>\n",
       "      <td>13.3</td>\n",
       "      <td>561.98450</td>\n",
       "      <td>5</td>\n",
       "      <td>24.98746</td>\n",
       "      <td>121.54391</td>\n",
       "      <td>47.3</td>\n",
       "    </tr>\n",
       "    <tr>\n",
       "      <th>3</th>\n",
       "      <td>4</td>\n",
       "      <td>2013.500</td>\n",
       "      <td>13.3</td>\n",
       "      <td>561.98450</td>\n",
       "      <td>5</td>\n",
       "      <td>24.98746</td>\n",
       "      <td>121.54391</td>\n",
       "      <td>54.8</td>\n",
       "    </tr>\n",
       "    <tr>\n",
       "      <th>4</th>\n",
       "      <td>5</td>\n",
       "      <td>2012.833</td>\n",
       "      <td>5.0</td>\n",
       "      <td>390.56840</td>\n",
       "      <td>5</td>\n",
       "      <td>24.97937</td>\n",
       "      <td>121.54245</td>\n",
       "      <td>43.1</td>\n",
       "    </tr>\n",
       "  </tbody>\n",
       "</table>\n",
       "</div>"
      ],
      "text/plain": [
       "   No  transaction_date  house_age  distance_to_the_nearest_MRT_station  \\\n",
       "0   1          2012.917       32.0                             84.87882   \n",
       "1   2          2012.917       19.5                            306.59470   \n",
       "2   3          2013.583       13.3                            561.98450   \n",
       "3   4          2013.500       13.3                            561.98450   \n",
       "4   5          2012.833        5.0                            390.56840   \n",
       "\n",
       "   number_of_convenience_stores  latitude  longitude  house_price_of_unit_area  \n",
       "0                            10  24.98298  121.54024                      37.9  \n",
       "1                             9  24.98034  121.53951                      42.2  \n",
       "2                             5  24.98746  121.54391                      47.3  \n",
       "3                             5  24.98746  121.54391                      54.8  \n",
       "4                             5  24.97937  121.54245                      43.1  "
      ]
     },
     "execution_count": 1,
     "metadata": {},
     "output_type": "execute_result"
    }
   ],
   "source": [
    "# a.)\n",
    "import boto3\n",
    "import pandas as pd; pd.set_option('display.max_columns', 100)\n",
    "import numpy as np\n",
    "\n",
    "s3 = boto3.resource('s3')\n",
    "bucket_name = 'data-445-timlincoln'\n",
    "bucket = s3.Bucket(bucket_name)\n",
    "\n",
    "file_key = 'Real_Estate.csv'\n",
    "\n",
    "bucket_object = bucket.Object(file_key)\n",
    "file_object = bucket_object.get()\n",
    "file_content_stream = file_object.get('Body')\n",
    "\n",
    "# Reading the data-file\n",
    "house_price = pd.read_csv(file_content_stream)\n",
    "house_price.head()"
   ]
  },
  {
   "cell_type": "code",
   "execution_count": 2,
   "id": "82a689e4",
   "metadata": {},
   "outputs": [
    {
     "data": {
      "text/html": [
       "<div>\n",
       "<style scoped>\n",
       "    .dataframe tbody tr th:only-of-type {\n",
       "        vertical-align: middle;\n",
       "    }\n",
       "\n",
       "    .dataframe tbody tr th {\n",
       "        vertical-align: top;\n",
       "    }\n",
       "\n",
       "    .dataframe thead th {\n",
       "        text-align: right;\n",
       "    }\n",
       "</style>\n",
       "<table border=\"1\" class=\"dataframe\">\n",
       "  <thead>\n",
       "    <tr style=\"text-align: right;\">\n",
       "      <th></th>\n",
       "      <th>house_age</th>\n",
       "      <th>distance_to_the_nearest_MRT_station</th>\n",
       "      <th>number_of_convenience_stores</th>\n",
       "      <th>latitude</th>\n",
       "      <th>longitude</th>\n",
       "      <th>house_price_of_unit_area</th>\n",
       "    </tr>\n",
       "  </thead>\n",
       "  <tbody>\n",
       "    <tr>\n",
       "      <th>0</th>\n",
       "      <td>32.0</td>\n",
       "      <td>84.87882</td>\n",
       "      <td>10</td>\n",
       "      <td>24.98298</td>\n",
       "      <td>121.54024</td>\n",
       "      <td>37.9</td>\n",
       "    </tr>\n",
       "    <tr>\n",
       "      <th>1</th>\n",
       "      <td>19.5</td>\n",
       "      <td>306.59470</td>\n",
       "      <td>9</td>\n",
       "      <td>24.98034</td>\n",
       "      <td>121.53951</td>\n",
       "      <td>42.2</td>\n",
       "    </tr>\n",
       "    <tr>\n",
       "      <th>2</th>\n",
       "      <td>13.3</td>\n",
       "      <td>561.98450</td>\n",
       "      <td>5</td>\n",
       "      <td>24.98746</td>\n",
       "      <td>121.54391</td>\n",
       "      <td>47.3</td>\n",
       "    </tr>\n",
       "    <tr>\n",
       "      <th>3</th>\n",
       "      <td>13.3</td>\n",
       "      <td>561.98450</td>\n",
       "      <td>5</td>\n",
       "      <td>24.98746</td>\n",
       "      <td>121.54391</td>\n",
       "      <td>54.8</td>\n",
       "    </tr>\n",
       "    <tr>\n",
       "      <th>4</th>\n",
       "      <td>5.0</td>\n",
       "      <td>390.56840</td>\n",
       "      <td>5</td>\n",
       "      <td>24.97937</td>\n",
       "      <td>121.54245</td>\n",
       "      <td>43.1</td>\n",
       "    </tr>\n",
       "  </tbody>\n",
       "</table>\n",
       "</div>"
      ],
      "text/plain": [
       "   house_age  distance_to_the_nearest_MRT_station  \\\n",
       "0       32.0                             84.87882   \n",
       "1       19.5                            306.59470   \n",
       "2       13.3                            561.98450   \n",
       "3       13.3                            561.98450   \n",
       "4        5.0                            390.56840   \n",
       "\n",
       "   number_of_convenience_stores  latitude  longitude  house_price_of_unit_area  \n",
       "0                            10  24.98298  121.54024                      37.9  \n",
       "1                             9  24.98034  121.53951                      42.2  \n",
       "2                             5  24.98746  121.54391                      47.3  \n",
       "3                             5  24.98746  121.54391                      54.8  \n",
       "4                             5  24.97937  121.54245                      43.1  "
      ]
     },
     "execution_count": 2,
     "metadata": {},
     "output_type": "execute_result"
    }
   ],
   "source": [
    "# b.)\n",
    "# Dropping No & transaction date\n",
    "house_price = house_price.drop(columns = ['No', 'transaction_date'], axis = 1)\n",
    "house_price.head()"
   ]
  },
  {
   "cell_type": "code",
   "execution_count": 16,
   "id": "7da3c855",
   "metadata": {},
   "outputs": [],
   "source": [
    "# c.)\n",
    "from sklearn.model_selection import train_test_split\n",
    "\n",
    "# Defining the input and target\n",
    "X = house_price.drop(columns = 'house_price_of_unit_area', axis = 1)\n",
    "Y = house_price['house_price_of_unit_area']\n",
    "\n",
    "# Splitting the data\n",
    "X_train, X_test, Y_train, Y_test = train_test_split(X, Y, test_size = 0.2)"
   ]
  },
  {
   "cell_type": "code",
   "execution_count": 17,
   "id": "f0d68f14",
   "metadata": {},
   "outputs": [
    {
     "name": "stdout",
     "output_type": "stream",
     "text": [
      "The MSE of this model is: 75.46775408282305\n"
     ]
    }
   ],
   "source": [
    "# d.)\n",
    "from sklearn.linear_model import LinearRegression\n",
    "\n",
    "# Building the linear model\n",
    "lm_md = LinearRegression().fit(X_train, Y_train)\n",
    "\n",
    "# Predicting the test data\n",
    "preds = lm_md.predict(X_test)\n",
    "\n",
    "# Computing the MSE\n",
    "mse = np.mean(np.power(preds - Y_test, 2))\n",
    "print('The MSE of this model is:', mse)"
   ]
  },
  {
   "cell_type": "code",
   "execution_count": 18,
   "id": "c59a3a43",
   "metadata": {},
   "outputs": [
    {
     "name": "stdout",
     "output_type": "stream",
     "text": [
      "The MSE of this model is: 76.96621618991925\n"
     ]
    }
   ],
   "source": [
    "# e.)\n",
    "# Defining the input and target\n",
    "X2_train = X_train[['house_age', 'number_of_convenience_stores', 'latitude', 'longitude']]\n",
    "X2_test = X_test[['house_age', 'number_of_convenience_stores', 'latitude', 'longitude']]\n",
    "\n",
    "# Building the linear model\n",
    "lm_md2 = LinearRegression().fit(X2_train, Y_train)\n",
    "\n",
    "# Predicting the test data\n",
    "preds2 = lm_md2.predict(X2_test)\n",
    "\n",
    "# Computing the MSE\n",
    "mse2 = np.mean(np.power(preds2 - Y_test, 2))\n",
    "print('The MSE of this model is:', mse2)"
   ]
  },
  {
   "cell_type": "code",
   "execution_count": null,
   "id": "1291a12c",
   "metadata": {},
   "outputs": [],
   "source": [
    "# f.)\n",
    "# From comparing the two models and their mse, the first model would be the preferred over the second model because \n",
    "# of the lower mse making it a more accurate model."
   ]
  },
  {
   "cell_type": "code",
   "execution_count": 23,
   "id": "b76f6eab",
   "metadata": {},
   "outputs": [
    {
     "data": {
      "image/png": "[encoded data removed]",
      "text/plain": [
       "<Figure size 432x288 with 1 Axes>"
      ]
     },
     "metadata": {
      "needs_background": "light"
     },
     "output_type": "display_data"
    }
   ],
   "source": [
    "# g.)\n",
    "from sklearn.model_selection import train_test_split\n",
    "from sklearn.linear_model import LinearRegression\n",
    "import matplotlib.pyplot as plt\n",
    "i = 0\n",
    "mse1_list = []\n",
    "mse2_list = []\n",
    "\n",
    "for i in range(0, 100):\n",
    "    X_train, X_test, Y_train, Y_test = train_test_split(X, Y, test_size = 0.2)\n",
    "    \n",
    "    lm_md1 = LinearRegression().fit(X_train, Y_train)\n",
    "    preds1 = lm_md1.predict(X_test)\n",
    "    mse1 = np.mean(np.power(preds1 - Y_test, 2))\n",
    "    mse1_list.append(mse1)\n",
    "    \n",
    "    # Model 2\n",
    "    X2_train = X_train[['house_age', 'number_of_convenience_stores', 'latitude', 'longitude']]\n",
    "    X2_test = X_test[['house_age', 'number_of_convenience_stores', 'latitude', 'longitude']]\n",
    "    lm_md2 = LinearRegression().fit(X2_train, Y_train)\n",
    "    preds2 = lm_md2.predict(X2_test)\n",
    "    mse2 = np.mean(np.power(preds2 - Y_test, 2))\n",
    "    mse2_list.append(mse2)\n",
    "    i = i + 1\n",
    "    \n",
    "# Plotting results\n",
    "plt.plot([i for i in range(0, 100)], mse1_list, color = 'b', label = 'mse1')\n",
    "plt.plot([i for i in range(0, 100)],mse2_list, color = 'r', label = 'mse2')\n",
    "plt.xlabel(\"Iteration\")\n",
    "plt.ylabel(\"MSE\")\n",
    "plt.legend()\n",
    "plt.show()"
   ]
  },
  {
   "cell_type": "code",
   "execution_count": null,
   "id": "0f1820f9",
   "metadata": {},
   "outputs": [],
   "source": [
    "# From the plot shown, we see that the first model consistantly has a lower mse than the second meaning\n",
    "# the model being most accurate on the test data is the first one. "
   ]
  }
 ],
 "metadata": {
  "kernelspec": {
   "display_name": "conda_python3",
   "language": "python",
   "name": "conda_python3"
  },
  "language_info": {
   "codemirror_mode": {
    "name": "ipython",
    "version": 3
   },
   "file_extension": ".py",
   "mimetype": "text/x-python",
   "name": "python",
   "nbconvert_exporter": "python",
   "pygments_lexer": "ipython3",
   "version": "3.8.12"
  }
 },
 "nbformat": 4,
 "nbformat_minor": 5
}
