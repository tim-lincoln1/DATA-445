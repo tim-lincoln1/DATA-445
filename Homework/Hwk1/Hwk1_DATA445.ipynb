{
 "cells": [
  {
   "cell_type": "code",
   "execution_count": null,
   "id": "70b13596",
   "metadata": {},
   "outputs": [],
   "source": [
    "# Exercise1\n",
    "# Clustering would be a good way to split the data into multiple groups so that more relationships \n",
    "# can be made within the data."
   ]
  },
  {
   "cell_type": "code",
   "execution_count": null,
   "id": "b70d41c6",
   "metadata": {},
   "outputs": [],
   "source": [
    "# Exercise2\n",
    "# A spam detection model would fall under supervised learning because for the model to detect spam messages,\n",
    "# the model would first need data to learn relationships in what spam messages look like."
   ]
  },
  {
   "cell_type": "code",
   "execution_count": null,
   "id": "45497dc8",
   "metadata": {},
   "outputs": [],
   "source": [
    "# Exercise3\n",
    "# A test set is a smaller percentage of a dataset where you use it to 'test' the accuracy of the model that was built off\n",
    "# the same dataset. It's a good way to see how the model works with existing data before releasing it to the real world."
   ]
  },
  {
   "cell_type": "code",
   "execution_count": null,
   "id": "b6054629",
   "metadata": {},
   "outputs": [],
   "source": [
    "# Exercise4\n",
    "# "
   ]
  }
 ],
 "metadata": {
  "kernelspec": {
   "display_name": "conda_python3",
   "language": "python",
   "name": "conda_python3"
  },
  "language_info": {
   "codemirror_mode": {
    "name": "ipython",
    "version": 3
   },
   "file_extension": ".py",
   "mimetype": "text/x-python",
   "name": "python",
   "nbconvert_exporter": "python",
   "pygments_lexer": "ipython3",
   "version": "3.8.12"
  }
 },
 "nbformat": 4,
 "nbformat_minor": 5
}
