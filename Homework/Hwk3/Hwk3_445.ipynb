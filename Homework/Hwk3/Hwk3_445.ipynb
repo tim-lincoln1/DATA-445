{
 "cells": [
  {
   "cell_type": "code",
   "execution_count": null,
   "id": "d5db9bb0",
   "metadata": {},
   "outputs": [],
   "source": [
    "# Exercise 1\n",
    "# In a senario where there are more variables than observations, using the least squares method would not \n",
    "# be ideal because of the tendancy to have a low bias, but high variance and not having a unique solution.\n",
    "# In this case, the best method to use is ridge regression because however it will have a high bias, the \n",
    "# variance will be much lower than least squares."
   ]
  },
  {
   "cell_type": "code",
   "execution_count": null,
   "id": "0a43441d",
   "metadata": {},
   "outputs": [],
   "source": [
    "# Exercise 2\n",
    "# (f)"
   ]
  },
  {
   "cell_type": "code",
   "execution_count": null,
   "id": "bfb72e9e",
   "metadata": {},
   "outputs": [],
   "source": []
  }
 ],
 "metadata": {
  "kernelspec": {
   "display_name": "conda_python3",
   "language": "python",
   "name": "conda_python3"
  },
  "language_info": {
   "codemirror_mode": {
    "name": "ipython",
    "version": 3
   },
   "file_extension": ".py",
   "mimetype": "text/x-python",
   "name": "python",
   "nbconvert_exporter": "python",
   "pygments_lexer": "ipython3",
   "version": "3.8.12"
  }
 },
 "nbformat": 4,
 "nbformat_minor": 5
}
