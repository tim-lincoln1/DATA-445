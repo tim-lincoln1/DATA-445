{
 "cells": [
  {
   "cell_type": "code",
   "execution_count": null,
   "id": "9f6d08fe",
   "metadata": {},
   "outputs": [],
   "source": [
    "# 1) (a) 0.01\n",
    "# (b) The weight would be larger to give more focus on the observation that was misclassified."
   ]
  },
  {
   "cell_type": "code",
   "execution_count": null,
   "id": "e9a1172a",
   "metadata": {},
   "outputs": [],
   "source": [
    "# 2) AdaBoost is an ensemble learning because it continously fixes the next model to better itself."
   ]
  },
  {
   "cell_type": "code",
   "execution_count": null,
   "id": "0a322382",
   "metadata": {},
   "outputs": [],
   "source": [
    "# 3) 0.16 -> 0.06,  0.64 -> 0.54,  0.08 -> 0.18,  0.12 -> 0.22"
   ]
  },
  {
   "cell_type": "code",
   "execution_count": null,
   "id": "7a71a6f3",
   "metadata": {},
   "outputs": [],
   "source": [
    "# 4) Would increase the depth of the decision tree as it will better the model in its estimating."
   ]
  },
  {
   "cell_type": "code",
   "execution_count": null,
   "id": "80a334b3",
   "metadata": {},
   "outputs": [],
   "source": [
    "# 5) C"
   ]
  },
  {
   "cell_type": "code",
   "execution_count": null,
   "id": "c6242bac",
   "metadata": {},
   "outputs": [],
   "source": [
    "# 6) F"
   ]
  },
  {
   "cell_type": "code",
   "execution_count": null,
   "id": "79dcbbdf",
   "metadata": {},
   "outputs": [],
   "source": [
    "# 7) AdaBoost is preformed to increase the weights of the weaker learners while Gradient boosting \n",
    "# finds observations with high residuals."
   ]
  },
  {
   "cell_type": "code",
   "execution_count": 1,
   "id": "ce4d8741",
   "metadata": {},
   "outputs": [
    {
     "data": {
      "text/html": [
       "<div>\n",
       "<style scoped>\n",
       "    .dataframe tbody tr th:only-of-type {\n",
       "        vertical-align: middle;\n",
       "    }\n",
       "\n",
       "    .dataframe tbody tr th {\n",
       "        vertical-align: top;\n",
       "    }\n",
       "\n",
       "    .dataframe thead th {\n",
       "        text-align: right;\n",
       "    }\n",
       "</style>\n",
       "<table border=\"1\" class=\"dataframe\">\n",
       "  <thead>\n",
       "    <tr style=\"text-align: right;\">\n",
       "      <th></th>\n",
       "      <th>male</th>\n",
       "      <th>age</th>\n",
       "      <th>education</th>\n",
       "      <th>currentSmoker</th>\n",
       "      <th>cigsPerDay</th>\n",
       "      <th>BPMeds</th>\n",
       "      <th>prevalentStroke</th>\n",
       "      <th>prevalentHyp</th>\n",
       "      <th>diabetes</th>\n",
       "      <th>totChol</th>\n",
       "      <th>sysBP</th>\n",
       "      <th>diaBP</th>\n",
       "      <th>BMI</th>\n",
       "      <th>heartRate</th>\n",
       "      <th>glucose</th>\n",
       "      <th>TenYearCHD</th>\n",
       "    </tr>\n",
       "  </thead>\n",
       "  <tbody>\n",
       "    <tr>\n",
       "      <th>0</th>\n",
       "      <td>1</td>\n",
       "      <td>39</td>\n",
       "      <td>4.0</td>\n",
       "      <td>0</td>\n",
       "      <td>0.0</td>\n",
       "      <td>0.0</td>\n",
       "      <td>0</td>\n",
       "      <td>0</td>\n",
       "      <td>0</td>\n",
       "      <td>195.0</td>\n",
       "      <td>106.0</td>\n",
       "      <td>70.0</td>\n",
       "      <td>26.97</td>\n",
       "      <td>80.0</td>\n",
       "      <td>77.0</td>\n",
       "      <td>0</td>\n",
       "    </tr>\n",
       "    <tr>\n",
       "      <th>1</th>\n",
       "      <td>0</td>\n",
       "      <td>46</td>\n",
       "      <td>2.0</td>\n",
       "      <td>0</td>\n",
       "      <td>0.0</td>\n",
       "      <td>0.0</td>\n",
       "      <td>0</td>\n",
       "      <td>0</td>\n",
       "      <td>0</td>\n",
       "      <td>250.0</td>\n",
       "      <td>121.0</td>\n",
       "      <td>81.0</td>\n",
       "      <td>28.73</td>\n",
       "      <td>95.0</td>\n",
       "      <td>76.0</td>\n",
       "      <td>0</td>\n",
       "    </tr>\n",
       "    <tr>\n",
       "      <th>2</th>\n",
       "      <td>1</td>\n",
       "      <td>48</td>\n",
       "      <td>1.0</td>\n",
       "      <td>1</td>\n",
       "      <td>20.0</td>\n",
       "      <td>0.0</td>\n",
       "      <td>0</td>\n",
       "      <td>0</td>\n",
       "      <td>0</td>\n",
       "      <td>245.0</td>\n",
       "      <td>127.5</td>\n",
       "      <td>80.0</td>\n",
       "      <td>25.34</td>\n",
       "      <td>75.0</td>\n",
       "      <td>70.0</td>\n",
       "      <td>0</td>\n",
       "    </tr>\n",
       "    <tr>\n",
       "      <th>3</th>\n",
       "      <td>0</td>\n",
       "      <td>61</td>\n",
       "      <td>3.0</td>\n",
       "      <td>1</td>\n",
       "      <td>30.0</td>\n",
       "      <td>0.0</td>\n",
       "      <td>0</td>\n",
       "      <td>1</td>\n",
       "      <td>0</td>\n",
       "      <td>225.0</td>\n",
       "      <td>150.0</td>\n",
       "      <td>95.0</td>\n",
       "      <td>28.58</td>\n",
       "      <td>65.0</td>\n",
       "      <td>103.0</td>\n",
       "      <td>1</td>\n",
       "    </tr>\n",
       "    <tr>\n",
       "      <th>4</th>\n",
       "      <td>0</td>\n",
       "      <td>46</td>\n",
       "      <td>3.0</td>\n",
       "      <td>1</td>\n",
       "      <td>23.0</td>\n",
       "      <td>0.0</td>\n",
       "      <td>0</td>\n",
       "      <td>0</td>\n",
       "      <td>0</td>\n",
       "      <td>285.0</td>\n",
       "      <td>130.0</td>\n",
       "      <td>84.0</td>\n",
       "      <td>23.10</td>\n",
       "      <td>85.0</td>\n",
       "      <td>85.0</td>\n",
       "      <td>0</td>\n",
       "    </tr>\n",
       "  </tbody>\n",
       "</table>\n",
       "</div>"
      ],
      "text/plain": [
       "   male  age  education  currentSmoker  cigsPerDay  BPMeds  prevalentStroke  \\\n",
       "0     1   39        4.0              0         0.0     0.0                0   \n",
       "1     0   46        2.0              0         0.0     0.0                0   \n",
       "2     1   48        1.0              1        20.0     0.0                0   \n",
       "3     0   61        3.0              1        30.0     0.0                0   \n",
       "4     0   46        3.0              1        23.0     0.0                0   \n",
       "\n",
       "   prevalentHyp  diabetes  totChol  sysBP  diaBP    BMI  heartRate  glucose  \\\n",
       "0             0         0    195.0  106.0   70.0  26.97       80.0     77.0   \n",
       "1             0         0    250.0  121.0   81.0  28.73       95.0     76.0   \n",
       "2             0         0    245.0  127.5   80.0  25.34       75.0     70.0   \n",
       "3             1         0    225.0  150.0   95.0  28.58       65.0    103.0   \n",
       "4             0         0    285.0  130.0   84.0  23.10       85.0     85.0   \n",
       "\n",
       "   TenYearCHD  \n",
       "0           0  \n",
       "1           0  \n",
       "2           0  \n",
       "3           1  \n",
       "4           0  "
      ]
     },
     "execution_count": 1,
     "metadata": {},
     "output_type": "execute_result"
    }
   ],
   "source": [
    "# 8)\n",
    "import boto3\n",
    "import pandas as pd; pd.set_option('display.max_columns', 100)\n",
    "import numpy as np\n",
    "import matplotlib.pyplot as plt\n",
    "\n",
    "from sklearn.model_selection import train_test_split\n",
    "from sklearn.tree import DecisionTreeClassifier\n",
    "from sklearn.metrics import recall_score\n",
    "from sklearn.metrics import accuracy_score\n",
    "from sklearn.ensemble import RandomForestClassifier, AdaBoostClassifier, GradientBoostingClassifier\n",
    "\n",
    "s3 = boto3.resource('s3')\n",
    "bucket_name = 'data-445-timlincoln'\n",
    "bucket = s3.Bucket(bucket_name)\n",
    "\n",
    "file_key = 'framingham.csv'\n",
    "\n",
    "bucket_object = bucket.Object(file_key)\n",
    "file_object = bucket_object.get()\n",
    "file_content_stream = file_object.get('Body')\n",
    "\n",
    "# Reading the data-file\n",
    "heart = pd.read_csv(file_content_stream)\n",
    "\n",
    "# Dropping N/A variables\n",
    "heart = heart.dropna()\n",
    "heart.head()"
   ]
  },
  {
   "cell_type": "code",
   "execution_count": 2,
   "id": "ea7bdb38",
   "metadata": {},
   "outputs": [],
   "source": [
    "# Defining the input and target variables\n",
    "X = heart[['age', 'totChol', 'sysBP', 'BMI', 'heartRate', 'glucose']]\n",
    "Y = heart['TenYearCHD']\n",
    "\n",
    "# Splitting the data\n",
    "X_train, X_test, Y_train, Y_test = train_test_split(X, Y, test_size = 0.2)"
   ]
  },
  {
   "cell_type": "code",
   "execution_count": 3,
   "id": "205db846",
   "metadata": {},
   "outputs": [
    {
     "name": "stdout",
     "output_type": "stream",
     "text": [
      "The accuracy of the random forest model is: 0.46994535519125685\n",
      "The recall of the random forest model is: 0.8080808080808081\n"
     ]
    }
   ],
   "source": [
    "# Building the random forest model\n",
    "RF_md = RandomForestClassifier(n_estimators = 500, max_depth = 3).fit(X_train, Y_train)\n",
    "\n",
    "# Predicting on test\n",
    "RF_pred = RF_md.predict_proba(X_test)[:, 1]\n",
    "\n",
    "# Changing to labels\n",
    "RF_labels = np.where(RF_pred < 0.1, 0, 1)\n",
    "\n",
    "print('The accuracy of the random forest model is:', accuracy_score(Y_test, RF_labels))\n",
    "print('The recall of the random forest model is:', recall_score(Y_test, RF_labels))"
   ]
  },
  {
   "cell_type": "code",
   "execution_count": 4,
   "id": "7ca76b29",
   "metadata": {},
   "outputs": [
    {
     "name": "stdout",
     "output_type": "stream",
     "text": [
      "The accuracy of the ada boost model is: 0.13797814207650272\n",
      "The recall of the ada boost model is: 1.0\n"
     ]
    }
   ],
   "source": [
    "# Building the ada boost model\n",
    "ada_md = AdaBoostClassifier(base_estimator = DecisionTreeClassifier(max_depth = 3), n_estimators = 500, learning_rate = 0.01).fit(X_train, Y_train)\n",
    "\n",
    "# Predicting on test\n",
    "ada_pred = ada_md.predict_proba(X_test)[:, 1]\n",
    "\n",
    "# Changing to labels\n",
    "ada_labels = np.where(ada_pred < 0.1, 0, 1)\n",
    "\n",
    "print('The accuracy of the ada boost model is:', accuracy_score(Y_test, ada_labels))\n",
    "print('The recall of the ada boost model is:', recall_score(Y_test, ada_labels))"
   ]
  },
  {
   "cell_type": "code",
   "execution_count": 5,
   "id": "c2dbc00a",
   "metadata": {},
   "outputs": [
    {
     "name": "stdout",
     "output_type": "stream",
     "text": [
      "The accuracy of the ada boost model is: 0.5013661202185792\n",
      "The recall of the Gradient boosting model is: 0.7474747474747475\n"
     ]
    }
   ],
   "source": [
    "# Building the gradient boosting model\n",
    "gb_md = GradientBoostingClassifier(max_depth = 3, n_estimators = 500, learning_rate = 0.01).fit(X_train, Y_train)\n",
    "\n",
    "# Predicting on test\n",
    "gb_pred = gb_md.predict_proba(X_test)[:, 1]\n",
    "\n",
    "# Changing to labels\n",
    "gb_labels = np.where(gb_pred < 0.1, 0, 1)\n",
    "\n",
    "print('The accuracy of the ada boost model is:', accuracy_score(Y_test, gb_labels))\n",
    "print('The recall of the Gradient boosting model is:', recall_score(Y_test, gb_labels))"
   ]
  },
  {
   "cell_type": "code",
   "execution_count": 8,
   "id": "51bb0416",
   "metadata": {},
   "outputs": [],
   "source": [
    "# Creating list for average\n",
    "RF_acc = []\n",
    "ada_acc = []\n",
    "gb_acc = []\n",
    "\n",
    "# Creating list for recall\n",
    "RF_rec = []\n",
    "ada_rec = []\n",
    "gb_rec = []"
   ]
  },
  {
   "cell_type": "code",
   "execution_count": 10,
   "id": "bbb4421c",
   "metadata": {},
   "outputs": [
    {
     "name": "stdout",
     "output_type": "stream",
     "text": [
      "The average accuracy score is: 0.4500281897822881\n",
      "The average recall score is: 0.8489405950918391\n"
     ]
    }
   ],
   "source": [
    "for i in range(0, 100):\n",
    "    # Splitting the data\n",
    "    X_train, X_test, Y_train, Y_test = train_test_split(X, Y, test_size = 0.2)\n",
    "    \n",
    "    # Building the random forest model\n",
    "    RF_md = RandomForestClassifier(n_estimators = 500, max_depth = 3).fit(X_train, Y_train)\n",
    "\n",
    "    # Predicting on test\n",
    "    RF_pred = RF_md.predict_proba(X_test)[:, 1]\n",
    "\n",
    "    # Changing to labels\n",
    "    RF_labels = np.where(RF_pred < 0.1, 0, 1)\n",
    "    \n",
    "    # Appending accuarcy and recall to list\n",
    "    RF_acc.append(accuracy_score(Y_test, RF_labels))\n",
    "    RF_rec.append(recall_score(Y_test, RF_labels))\n",
    "    \n",
    "# Computing average\n",
    "print('The average accuracy score is:', np.mean(RF_acc))\n",
    "print('The average recall score is:', np.mean(RF_rec))"
   ]
  },
  {
   "cell_type": "code",
   "execution_count": 11,
   "id": "4000cbce",
   "metadata": {},
   "outputs": [
    {
     "name": "stdout",
     "output_type": "stream",
     "text": [
      "The average accuracy score is: 0.1594262295081967\n",
      "The average recall score is: 0.9908356613741874\n"
     ]
    }
   ],
   "source": [
    "for n in range(0, 100):\n",
    "    # Splitting the data\n",
    "    X_train, X_test, Y_train, Y_test = train_test_split(X, Y, test_size = 0.2)\n",
    "    \n",
    "    # Building the ada boost model\n",
    "    ada_md = AdaBoostClassifier(base_estimator = DecisionTreeClassifier(max_depth = 3), n_estimators = 500, learning_rate = 0.01).fit(X_train, Y_train)\n",
    "\n",
    "    # Predicting on test\n",
    "    ada_pred = ada_md.predict_proba(X_test)[:, 1]\n",
    "\n",
    "    # Changing to labels\n",
    "    ada_labels = np.where(ada_pred < 0.1, 0, 1)\n",
    "    \n",
    "    # Appending accuarcy and recall to list\n",
    "    ada_acc.append(accuracy_score(Y_test, ada_labels))\n",
    "    ada_rec.append(recall_score(Y_test, ada_labels))\n",
    "    \n",
    "# Computing average\n",
    "print('The average accuracy score is:', np.mean(ada_acc))\n",
    "print('The average recall score is:', np.mean(ada_rec))"
   ]
  },
  {
   "cell_type": "code",
   "execution_count": 12,
   "id": "56df02cf",
   "metadata": {},
   "outputs": [
    {
     "name": "stdout",
     "output_type": "stream",
     "text": [
      "The average accuracy score is: 0.5049180327868852\n",
      "The average recall score is: 0.8043423601643468\n"
     ]
    }
   ],
   "source": [
    "for n in range(0, 100):\n",
    "    # Splitting the data\n",
    "    X_train, X_test, Y_train, Y_test = train_test_split(X, Y, test_size = 0.2)\n",
    "    \n",
    "    # Building the gradient boosting model\n",
    "    gb_md = GradientBoostingClassifier(max_depth = 3, n_estimators = 500, learning_rate = 0.01).fit(X_train, Y_train)\n",
    "\n",
    "    # Predicting on test\n",
    "    gb_pred = gb_md.predict_proba(X_test)[:, 1]\n",
    "\n",
    "    # Changing to labels\n",
    "    gb_labels = np.where(gb_pred < 0.1, 0, 1)\n",
    "    \n",
    "    # Appending accuarcy and recall to list\n",
    "    gb_acc.append(accuracy_score(Y_test, gb_labels))\n",
    "    gb_rec.append(recall_score(Y_test, gb_labels))\n",
    "    \n",
    "# Computing average\n",
    "print('The average accuracy score is:', np.mean(gb_acc))\n",
    "print('The average recall score is:', np.mean(gb_rec))"
   ]
  },
  {
   "cell_type": "code",
   "execution_count": null,
   "id": "5a03a6ea",
   "metadata": {},
   "outputs": [],
   "source": [
    "# From the three models built, the best model to predict TenYearCHD for accuracy and almost the best for recall \n",
    "# is gradient boosting with an average accuracy score of 0.50 and an average recall score of 0.80."
   ]
  },
  {
   "cell_type": "code",
   "execution_count": null,
   "id": "4e5bced4",
   "metadata": {},
   "outputs": [],
   "source": [
    "# c) With the accuracy score of the gradient boosting model only being 0.50, the model does not meet the minimum\n",
    "# reqiurements and would need fixing. What I would recommend is to decrease the learning rate so that maybe\n",
    "# the accuracy would increase on the prediction."
   ]
  }
 ],
 "metadata": {
  "kernelspec": {
   "display_name": "conda_python3",
   "language": "python",
   "name": "conda_python3"
  },
  "language_info": {
   "codemirror_mode": {
    "name": "ipython",
    "version": 3
   },
   "file_extension": ".py",
   "mimetype": "text/x-python",
   "name": "python",
   "nbconvert_exporter": "python",
   "pygments_lexer": "ipython3",
   "version": "3.8.12"
  }
 },
 "nbformat": 4,
 "nbformat_minor": 5
}
