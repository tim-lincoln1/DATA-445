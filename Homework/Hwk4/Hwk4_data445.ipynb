{
 "cells": [
  {
   "cell_type": "code",
   "execution_count": null,
   "id": "6077a832",
   "metadata": {},
   "outputs": [],
   "source": [
    "# 1.)\n",
    "# A perceptron is a neural network that has an input of linear neurons and outputs a sin(x) based function"
   ]
  },
  {
   "cell_type": "code",
   "execution_count": null,
   "id": "91f593b9",
   "metadata": {},
   "outputs": [],
   "source": [
    "# 2.)\n",
    "# "
   ]
  }
 ],
 "metadata": {
  "kernelspec": {
   "display_name": "conda_python3",
   "language": "python",
   "name": "conda_python3"
  },
  "language_info": {
   "codemirror_mode": {
    "name": "ipython",
    "version": 3
   },
   "file_extension": ".py",
   "mimetype": "text/x-python",
   "name": "python",
   "nbconvert_exporter": "python",
   "pygments_lexer": "ipython3",
   "version": "3.8.12"
  }
 },
 "nbformat": 4,
 "nbformat_minor": 5
}
